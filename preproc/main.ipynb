{
 "cells": [
  {
   "cell_type": "markdown",
   "metadata": {},
   "source": [
    "# Imports"
   ]
  },
  {
   "cell_type": "code",
   "execution_count": 2,
   "metadata": {},
   "outputs": [],
   "source": [
    "import pandas as pd\n",
    "import seaborn as sns\n",
    "import re\n",
    "import string\n",
    "from nltk.tokenize import word_tokenize\n",
    "from nltk.lm.preprocessing import padded_everygram_pipeline\n",
    "from nltk.lm import MLE, Laplace"
   ]
  },
  {
   "cell_type": "markdown",
   "metadata": {},
   "source": [
    "---"
   ]
  },
  {
   "cell_type": "markdown",
   "metadata": {},
   "source": [
    "# Preprocessing"
   ]
  },
  {
   "cell_type": "code",
   "execution_count": null,
   "metadata": {},
   "outputs": [],
   "source": [
    "def conv_uchar_to_space(string):\n",
    "    return \"\".join([i if ord(i) < 128 else \" \" for i in string])"
   ]
  },
  {
   "cell_type": "code",
   "execution_count": 103,
   "metadata": {},
   "outputs": [],
   "source": [
    "def preproc(filename):\n",
    "    df = pd.read_csv(filename, delimiter=\"\\t\")\n",
    "    df = df.applymap(lambda x: x.strip() if isinstance(x, str) else x)\n",
    "    df = df[df[\"category\"] != \"not-Tamil\"]\n",
    "    df[\"text\"] = df[\"text\"].apply(conv_uchar_to_space)\n",
    "    df[\"text\"] = df[\"text\"].apply(str.lower)\n",
    "    df[\"text\"] = df[\"text\"].apply(lambda x: re.sub(r\"\\d+\", \"\", x))\n",
    "    df[\"text\"] = df[\"text\"].apply(contractions.fix)\n",
    "    df[\"text\"] = df[\"text\"].apply(lambda x: x.translate(str.maketrans(\"\", \"\", string.punctuation)))\n",
    "    df[\"text\"].to_csv(f\"{filename}_cleaned.csv\", index=False)\n",
    "    df[\"text\"] = df[\"text\"].apply(lambda x: word_tokenize(x))\n",
    "    corpus = df[\"text\"].tolist()\n",
    "    return corpus"
   ]
  },
  {
   "cell_type": "code",
   "execution_count": 38,
   "metadata": {},
   "outputs": [],
   "source": [
    "df = pd.read_csv(\"./tamil_train.tsv\", delimiter=\"\\t\")"
   ]
  },
  {
   "cell_type": "code",
   "execution_count": 4,
   "metadata": {},
   "outputs": [
    {
     "data": {
      "text/html": [
       "<div>\n",
       "<style scoped>\n",
       "    .dataframe tbody tr th:only-of-type {\n",
       "        vertical-align: middle;\n",
       "    }\n",
       "\n",
       "    .dataframe tbody tr th {\n",
       "        vertical-align: top;\n",
       "    }\n",
       "\n",
       "    .dataframe thead th {\n",
       "        text-align: right;\n",
       "    }\n",
       "</style>\n",
       "<table border=\"1\" class=\"dataframe\">\n",
       "  <thead>\n",
       "    <tr style=\"text-align: right;\">\n",
       "      <th></th>\n",
       "      <th>text</th>\n",
       "      <th>category</th>\n",
       "    </tr>\n",
       "  </thead>\n",
       "  <tbody>\n",
       "    <tr>\n",
       "      <th>0</th>\n",
       "      <td>Trailer late ah parthavanga like podunga</td>\n",
       "      <td>Positive</td>\n",
       "    </tr>\n",
       "    <tr>\n",
       "      <th>1</th>\n",
       "      <td>Move pathutu vanthu trailer pakurvnga yaru</td>\n",
       "      <td>Positive</td>\n",
       "    </tr>\n",
       "    <tr>\n",
       "      <th>2</th>\n",
       "      <td>Puthupetai dhanush  ah yarellam pathinga</td>\n",
       "      <td>Positive</td>\n",
       "    </tr>\n",
       "    <tr>\n",
       "      <th>3</th>\n",
       "      <td>Dhanush oda character ,puthu sa erukay , mass ta</td>\n",
       "      <td>Positive</td>\n",
       "    </tr>\n",
       "    <tr>\n",
       "      <th>4</th>\n",
       "      <td>vera level ippa pesungada mokka nu thalaivaaaaaa</td>\n",
       "      <td>Positive</td>\n",
       "    </tr>\n",
       "  </tbody>\n",
       "</table>\n",
       "</div>"
      ],
      "text/plain": [
       "                                                text   category\n",
       "0           Trailer late ah parthavanga like podunga  Positive \n",
       "1         Move pathutu vanthu trailer pakurvnga yaru  Positive \n",
       "2           Puthupetai dhanush  ah yarellam pathinga  Positive \n",
       "3   Dhanush oda character ,puthu sa erukay , mass ta  Positive \n",
       "4   vera level ippa pesungada mokka nu thalaivaaaaaa  Positive "
      ]
     },
     "execution_count": 4,
     "metadata": {},
     "output_type": "execute_result"
    }
   ],
   "source": [
    "df.head()"
   ]
  },
  {
   "cell_type": "code",
   "execution_count": 5,
   "metadata": {},
   "outputs": [
    {
     "data": {
      "text/plain": [
       "(11335, 2)"
      ]
     },
     "execution_count": 5,
     "metadata": {},
     "output_type": "execute_result"
    }
   ],
   "source": [
    "df.shape"
   ]
  },
  {
   "cell_type": "code",
   "execution_count": 39,
   "metadata": {},
   "outputs": [],
   "source": [
    "df = df.applymap(lambda x: x.strip() if isinstance(x, str) else x)"
   ]
  },
  {
   "cell_type": "markdown",
   "metadata": {},
   "source": [
    "## Distribution"
   ]
  },
  {
   "cell_type": "code",
   "execution_count": 13,
   "metadata": {},
   "outputs": [
    {
     "data": {
      "text/plain": [
       "<Axes: xlabel='category', ylabel='Count'>"
      ]
     },
     "execution_count": 13,
     "metadata": {},
     "output_type": "execute_result"
    },
    {
     "data": {
      "image/png": "[encoded data removed]",
      "text/plain": [
       "<Figure size 640x480 with 1 Axes>"
      ]
     },
     "metadata": {},
     "output_type": "display_data"
    }
   ],
   "source": [
    "sns.histplot(data=df, x=\"category\")"
   ]
  },
  {
   "cell_type": "markdown",
   "metadata": {},
   "source": [
    "## Removing non-tamil sentences"
   ]
  },
  {
   "cell_type": "code",
   "execution_count": 17,
   "metadata": {},
   "outputs": [
    {
     "data": {
      "text/plain": [
       "False    10967\n",
       "True       368\n",
       "Name: category, dtype: int64"
      ]
     },
     "execution_count": 17,
     "metadata": {},
     "output_type": "execute_result"
    }
   ],
   "source": [
    "(df[\"category\"] == \"not-Tamil\").value_counts()"
   ]
  },
  {
   "cell_type": "code",
   "execution_count": 40,
   "metadata": {},
   "outputs": [],
   "source": [
    "df = df[df[\"category\"] != \"not-Tamil\"]"
   ]
  },
  {
   "cell_type": "code",
   "execution_count": 41,
   "metadata": {},
   "outputs": [
    {
     "data": {
      "text/plain": [
       "(10967, 2)"
      ]
     },
     "execution_count": 41,
     "metadata": {},
     "output_type": "execute_result"
    }
   ],
   "source": [
    "df.shape"
   ]
  },
  {
   "cell_type": "code",
   "execution_count": 42,
   "metadata": {},
   "outputs": [
    {
     "data": {
      "text/plain": [
       "<Axes: xlabel='category', ylabel='Count'>"
      ]
     },
     "execution_count": 42,
     "metadata": {},
     "output_type": "execute_result"
    },
    {
     "data": {
      "image/png": "[encoded data removed]",
      "text/plain": [
       "<Figure size 640x480 with 1 Axes>"
      ]
     },
     "metadata": {},
     "output_type": "display_data"
    }
   ],
   "source": [
    "sns.histplot(data=df, x=\"category\")"
   ]
  },
  {
   "cell_type": "markdown",
   "metadata": {},
   "source": [
    "## Remove non ASCII characters"
   ]
  },
  {
   "cell_type": "code",
   "execution_count": 54,
   "metadata": {},
   "outputs": [
    {
     "data": {
      "text/plain": [
       "0                 trailer late ah parthavanga like podunga\n",
       "1               move pathutu vanthu trailer pakurvnga yaru\n",
       "2                 puthupetai dhanush  ah yarellam pathinga\n",
       "3         dhanush oda character ,puthu sa erukay , mass ta\n",
       "4         vera level ippa pesungada mokka nu thalaivaaaaaa\n",
       "                               ...                        \n",
       "11330           yuvan shankar raja anna fan's like here...\n",
       "11331      a masterpiece best revenge film i ve ever scene\n",
       "11332                enna pa thala ya kamiya than katringa\n",
       "11333                              r a a s h i k h a n n a\n",
       "11334    trailer la nalla thaan iruku ana sound thaan k...\n",
       "Name: text, Length: 10967, dtype: object"
      ]
     },
     "execution_count": 54,
     "metadata": {},
     "output_type": "execute_result"
    }
   ],
   "source": [
    "df[\"text\"].apply(conv_uchar_to_space)"
   ]
  },
  {
   "cell_type": "code",
   "execution_count": 55,
   "metadata": {},
   "outputs": [],
   "source": [
    "df[\"text\"] = df[\"text\"].apply(conv_uchar_to_space)"
   ]
  },
  {
   "cell_type": "code",
   "execution_count": 46,
   "metadata": {},
   "outputs": [
    {
     "data": {
      "text/html": [
       "<div>\n",
       "<style scoped>\n",
       "    .dataframe tbody tr th:only-of-type {\n",
       "        vertical-align: middle;\n",
       "    }\n",
       "\n",
       "    .dataframe tbody tr th {\n",
       "        vertical-align: top;\n",
       "    }\n",
       "\n",
       "    .dataframe thead th {\n",
       "        text-align: right;\n",
       "    }\n",
       "</style>\n",
       "<table border=\"1\" class=\"dataframe\">\n",
       "  <thead>\n",
       "    <tr style=\"text-align: right;\">\n",
       "      <th></th>\n",
       "      <th>text</th>\n",
       "      <th>category</th>\n",
       "    </tr>\n",
       "  </thead>\n",
       "  <tbody>\n",
       "    <tr>\n",
       "      <th>0</th>\n",
       "      <td>Trailer late ah parthavanga like podunga</td>\n",
       "      <td>Positive</td>\n",
       "    </tr>\n",
       "    <tr>\n",
       "      <th>1</th>\n",
       "      <td>Move pathutu vanthu trailer pakurvnga yaru</td>\n",
       "      <td>Positive</td>\n",
       "    </tr>\n",
       "    <tr>\n",
       "      <th>2</th>\n",
       "      <td>Puthupetai dhanush  ah yarellam pathinga</td>\n",
       "      <td>Positive</td>\n",
       "    </tr>\n",
       "    <tr>\n",
       "      <th>3</th>\n",
       "      <td>Dhanush oda character ,puthu sa erukay , mass ta</td>\n",
       "      <td>Positive</td>\n",
       "    </tr>\n",
       "    <tr>\n",
       "      <th>4</th>\n",
       "      <td>vera level ippa pesungada mokka nu thalaivaaaaaa</td>\n",
       "      <td>Positive</td>\n",
       "    </tr>\n",
       "  </tbody>\n",
       "</table>\n",
       "</div>"
      ],
      "text/plain": [
       "                                               text  category\n",
       "0          Trailer late ah parthavanga like podunga  Positive\n",
       "1        Move pathutu vanthu trailer pakurvnga yaru  Positive\n",
       "2          Puthupetai dhanush  ah yarellam pathinga  Positive\n",
       "3  Dhanush oda character ,puthu sa erukay , mass ta  Positive\n",
       "4  vera level ippa pesungada mokka nu thalaivaaaaaa  Positive"
      ]
     },
     "execution_count": 46,
     "metadata": {},
     "output_type": "execute_result"
    }
   ],
   "source": [
    "df.head()"
   ]
  },
  {
   "cell_type": "markdown",
   "metadata": {},
   "source": [
    "## Convert to lowercase"
   ]
  },
  {
   "cell_type": "code",
   "execution_count": 56,
   "metadata": {},
   "outputs": [
    {
     "data": {
      "text/plain": [
       "0                 trailer late ah parthavanga like podunga\n",
       "1               move pathutu vanthu trailer pakurvnga yaru\n",
       "2                 puthupetai dhanush  ah yarellam pathinga\n",
       "3         dhanush oda character ,puthu sa erukay , mass ta\n",
       "4         vera level ippa pesungada mokka nu thalaivaaaaaa\n",
       "                               ...                        \n",
       "11330           yuvan shankar raja anna fan's like here...\n",
       "11331      a masterpiece best revenge film i ve ever scene\n",
       "11332                enna pa thala ya kamiya than katringa\n",
       "11333                              r a a s h i k h a n n a\n",
       "11334    trailer la nalla thaan iruku ana sound thaan k...\n",
       "Name: text, Length: 10967, dtype: object"
      ]
     },
     "execution_count": 56,
     "metadata": {},
     "output_type": "execute_result"
    }
   ],
   "source": [
    "df[\"text\"].apply(str.lower)"
   ]
  },
  {
   "cell_type": "code",
   "execution_count": 57,
   "metadata": {},
   "outputs": [],
   "source": [
    "df[\"text\"] = df[\"text\"].apply(str.lower)"
   ]
  },
  {
   "cell_type": "code",
   "execution_count": 49,
   "metadata": {},
   "outputs": [
    {
     "data": {
      "text/html": [
       "<div>\n",
       "<style scoped>\n",
       "    .dataframe tbody tr th:only-of-type {\n",
       "        vertical-align: middle;\n",
       "    }\n",
       "\n",
       "    .dataframe tbody tr th {\n",
       "        vertical-align: top;\n",
       "    }\n",
       "\n",
       "    .dataframe thead th {\n",
       "        text-align: right;\n",
       "    }\n",
       "</style>\n",
       "<table border=\"1\" class=\"dataframe\">\n",
       "  <thead>\n",
       "    <tr style=\"text-align: right;\">\n",
       "      <th></th>\n",
       "      <th>text</th>\n",
       "      <th>category</th>\n",
       "    </tr>\n",
       "  </thead>\n",
       "  <tbody>\n",
       "    <tr>\n",
       "      <th>0</th>\n",
       "      <td>trailer late ah parthavanga like podunga</td>\n",
       "      <td>Positive</td>\n",
       "    </tr>\n",
       "    <tr>\n",
       "      <th>1</th>\n",
       "      <td>move pathutu vanthu trailer pakurvnga yaru</td>\n",
       "      <td>Positive</td>\n",
       "    </tr>\n",
       "    <tr>\n",
       "      <th>2</th>\n",
       "      <td>puthupetai dhanush  ah yarellam pathinga</td>\n",
       "      <td>Positive</td>\n",
       "    </tr>\n",
       "    <tr>\n",
       "      <th>3</th>\n",
       "      <td>dhanush oda character ,puthu sa erukay , mass ta</td>\n",
       "      <td>Positive</td>\n",
       "    </tr>\n",
       "    <tr>\n",
       "      <th>4</th>\n",
       "      <td>vera level ippa pesungada mokka nu thalaivaaaaaa</td>\n",
       "      <td>Positive</td>\n",
       "    </tr>\n",
       "  </tbody>\n",
       "</table>\n",
       "</div>"
      ],
      "text/plain": [
       "                                               text  category\n",
       "0          trailer late ah parthavanga like podunga  Positive\n",
       "1        move pathutu vanthu trailer pakurvnga yaru  Positive\n",
       "2          puthupetai dhanush  ah yarellam pathinga  Positive\n",
       "3  dhanush oda character ,puthu sa erukay , mass ta  Positive\n",
       "4  vera level ippa pesungada mokka nu thalaivaaaaaa  Positive"
      ]
     },
     "execution_count": 49,
     "metadata": {},
     "output_type": "execute_result"
    }
   ],
   "source": [
    "df.head()"
   ]
  },
  {
   "cell_type": "markdown",
   "metadata": {},
   "source": [
    "# Removing Numbers"
   ]
  },
  {
   "cell_type": "code",
   "execution_count": 58,
   "metadata": {},
   "outputs": [
    {
     "data": {
      "text/plain": [
       "0                 trailer late ah parthavanga like podunga\n",
       "1               move pathutu vanthu trailer pakurvnga yaru\n",
       "2                 puthupetai dhanush  ah yarellam pathinga\n",
       "3         dhanush oda character ,puthu sa erukay , mass ta\n",
       "4         vera level ippa pesungada mokka nu thalaivaaaaaa\n",
       "                               ...                        \n",
       "11330           yuvan shankar raja anna fan's like here...\n",
       "11331      a masterpiece best revenge film i ve ever scene\n",
       "11332                enna pa thala ya kamiya than katringa\n",
       "11333                              r a a s h i k h a n n a\n",
       "11334    trailer la nalla thaan iruku ana sound thaan k...\n",
       "Name: text, Length: 10967, dtype: object"
      ]
     },
     "execution_count": 58,
     "metadata": {},
     "output_type": "execute_result"
    }
   ],
   "source": [
    "df[\"text\"].apply(lambda x: re.sub(r\"\\d+\", \"\", x))"
   ]
  },
  {
   "cell_type": "code",
   "execution_count": 59,
   "metadata": {},
   "outputs": [],
   "source": [
    "df[\"text\"] = df[\"text\"].apply(lambda x: re.sub(r\"\\d+\", \"\", x))"
   ]
  },
  {
   "cell_type": "markdown",
   "metadata": {},
   "source": [
    "## Expand Contractions"
   ]
  },
  {
   "cell_type": "code",
   "execution_count": 61,
   "metadata": {},
   "outputs": [
    {
     "data": {
      "text/plain": [
       "0                 trailer late ah parthavanga like podunga\n",
       "1               move pathutu vanthu trailer pakurvnga yaru\n",
       "2                 puthupetai dhanush  ah yarellam pathinga\n",
       "3         dhanush oda character ,puthu sa erukay , mass ta\n",
       "4         vera level ippa pesungada mokka nu thalaivaaaaaa\n",
       "                               ...                        \n",
       "11330           yuvan shankar raja anna fan's like here...\n",
       "11331      a masterpiece best revenge film i ve ever scene\n",
       "11332                enna pa thala ya kamiya than katringa\n",
       "11333                              r a a s h i k h a n n a\n",
       "11334    trailer la nalla thaan iruku ana sound thaan k...\n",
       "Name: text, Length: 10967, dtype: object"
      ]
     },
     "execution_count": 61,
     "metadata": {},
     "output_type": "execute_result"
    }
   ],
   "source": [
    "df[\"text\"].apply(contractions.fix)"
   ]
  },
  {
   "cell_type": "code",
   "execution_count": 62,
   "metadata": {},
   "outputs": [],
   "source": [
    "df[\"text\"] = df[\"text\"].apply(contractions.fix)"
   ]
  },
  {
   "cell_type": "markdown",
   "metadata": {},
   "source": [
    "# Remove Punctuations"
   ]
  },
  {
   "cell_type": "code",
   "execution_count": 63,
   "metadata": {},
   "outputs": [
    {
     "data": {
      "text/plain": [
       "0                 trailer late ah parthavanga like podunga\n",
       "1               move pathutu vanthu trailer pakurvnga yaru\n",
       "2                 puthupetai dhanush  ah yarellam pathinga\n",
       "3           dhanush oda character puthu sa erukay  mass ta\n",
       "4         vera level ippa pesungada mokka nu thalaivaaaaaa\n",
       "                               ...                        \n",
       "11330               yuvan shankar raja anna fans like here\n",
       "11331      a masterpiece best revenge film i ve ever scene\n",
       "11332                enna pa thala ya kamiya than katringa\n",
       "11333                              r a a s h i k h a n n a\n",
       "11334    trailer la nalla thaan iruku ana sound thaan k...\n",
       "Name: text, Length: 10967, dtype: object"
      ]
     },
     "execution_count": 63,
     "metadata": {},
     "output_type": "execute_result"
    }
   ],
   "source": [
    "df[\"text\"].apply(lambda x: x.translate(str.maketrans(\"\", \"\", string.punctuation)))"
   ]
  },
  {
   "cell_type": "code",
   "execution_count": 64,
   "metadata": {},
   "outputs": [],
   "source": [
    "df[\"text\"] = df[\"text\"].apply(lambda x: x.translate(str.maketrans(\"\", \"\", string.punctuation)))"
   ]
  },
  {
   "cell_type": "code",
   "execution_count": 67,
   "metadata": {},
   "outputs": [],
   "source": [
    "df[\"text\"].to_csv(\"cleaned.csv\", index=False)"
   ]
  },
  {
   "cell_type": "markdown",
   "metadata": {},
   "source": [
    "# Tokenization"
   ]
  },
  {
   "cell_type": "code",
   "execution_count": 70,
   "metadata": {},
   "outputs": [
    {
     "data": {
      "text/plain": [
       "0          [trailer, late, ah, parthavanga, like, podunga]\n",
       "1        [move, pathutu, vanthu, trailer, pakurvnga, yaru]\n",
       "2            [puthupetai, dhanush, ah, yarellam, pathinga]\n",
       "3        [dhanush, oda, character, puthu, sa, erukay, m...\n",
       "4        [vera, level, ippa, pesungada, mokka, nu, thal...\n",
       "                               ...                        \n",
       "11330       [yuvan, shankar, raja, anna, fans, like, here]\n",
       "11331    [a, masterpiece, best, revenge, film, i, ve, e...\n",
       "11332        [enna, pa, thala, ya, kamiya, than, katringa]\n",
       "11333                 [r, a, a, s, h, i, k, h, a, n, n, a]\n",
       "11334    [trailer, la, nalla, thaan, iruku, ana, sound,...\n",
       "Name: text, Length: 10967, dtype: object"
      ]
     },
     "execution_count": 70,
     "metadata": {},
     "output_type": "execute_result"
    }
   ],
   "source": [
    "df[\"text\"].apply(lambda x: word_tokenize(x))"
   ]
  },
  {
   "cell_type": "code",
   "execution_count": 71,
   "metadata": {},
   "outputs": [],
   "source": [
    "df[\"text\"] = df[\"text\"].apply(lambda x: word_tokenize(x))"
   ]
  },
  {
   "cell_type": "code",
   "execution_count": 72,
   "metadata": {},
   "outputs": [
    {
     "data": {
      "text/html": [
       "<div>\n",
       "<style scoped>\n",
       "    .dataframe tbody tr th:only-of-type {\n",
       "        vertical-align: middle;\n",
       "    }\n",
       "\n",
       "    .dataframe tbody tr th {\n",
       "        vertical-align: top;\n",
       "    }\n",
       "\n",
       "    .dataframe thead th {\n",
       "        text-align: right;\n",
       "    }\n",
       "</style>\n",
       "<table border=\"1\" class=\"dataframe\">\n",
       "  <thead>\n",
       "    <tr style=\"text-align: right;\">\n",
       "      <th></th>\n",
       "      <th>text</th>\n",
       "      <th>category</th>\n",
       "    </tr>\n",
       "  </thead>\n",
       "  <tbody>\n",
       "    <tr>\n",
       "      <th>0</th>\n",
       "      <td>[trailer, late, ah, parthavanga, like, podunga]</td>\n",
       "      <td>Positive</td>\n",
       "    </tr>\n",
       "    <tr>\n",
       "      <th>1</th>\n",
       "      <td>[move, pathutu, vanthu, trailer, pakurvnga, yaru]</td>\n",
       "      <td>Positive</td>\n",
       "    </tr>\n",
       "    <tr>\n",
       "      <th>2</th>\n",
       "      <td>[puthupetai, dhanush, ah, yarellam, pathinga]</td>\n",
       "      <td>Positive</td>\n",
       "    </tr>\n",
       "    <tr>\n",
       "      <th>3</th>\n",
       "      <td>[dhanush, oda, character, puthu, sa, erukay, m...</td>\n",
       "      <td>Positive</td>\n",
       "    </tr>\n",
       "    <tr>\n",
       "      <th>4</th>\n",
       "      <td>[vera, level, ippa, pesungada, mokka, nu, thal...</td>\n",
       "      <td>Positive</td>\n",
       "    </tr>\n",
       "  </tbody>\n",
       "</table>\n",
       "</div>"
      ],
      "text/plain": [
       "                                                text  category\n",
       "0    [trailer, late, ah, parthavanga, like, podunga]  Positive\n",
       "1  [move, pathutu, vanthu, trailer, pakurvnga, yaru]  Positive\n",
       "2      [puthupetai, dhanush, ah, yarellam, pathinga]  Positive\n",
       "3  [dhanush, oda, character, puthu, sa, erukay, m...  Positive\n",
       "4  [vera, level, ippa, pesungada, mokka, nu, thal...  Positive"
      ]
     },
     "execution_count": 72,
     "metadata": {},
     "output_type": "execute_result"
    }
   ],
   "source": [
    "df.head()"
   ]
  },
  {
   "cell_type": "code",
   "execution_count": 74,
   "metadata": {},
   "outputs": [],
   "source": [
    "corpus = df[\"text\"].tolist()"
   ]
  },
  {
   "cell_type": "markdown",
   "metadata": {},
   "source": [
    "---\n",
    "# N-Gram"
   ]
  },
  {
   "cell_type": "code",
   "execution_count": 77,
   "metadata": {},
   "outputs": [],
   "source": [
    "train, vocab = padded_everygram_pipeline(2, corpus)"
   ]
  },
  {
   "cell_type": "code",
   "execution_count": 80,
   "metadata": {},
   "outputs": [
    {
     "name": "stdout",
     "output_type": "stream",
     "text": [
      "[('<s>',), ('<s>', 'when'), ('when',), ('when', 'pandey'), ('pandey',), ('pandey', 'gets'), ('gets',), ('gets', 'up'), ('up',), ('up', 'vandumurugan'), ('vandumurugan',), ('vandumurugan', 'i'), ('i',), ('i', 'am'), ('am',), ('am', 'speaking'), ('speaking',), ('speaking', 'no'), ('no',), ('no', 'cross'), ('cross',), ('cross', 'speaking'), ('speaking',), ('speaking', 'sittt'), ('sittt',), ('sittt', 'downnn'), ('downnn',), ('downnn', '</s>'), ('</s>',)]\n",
      "[('<s>',), ('<s>', 'remake'), ('remake',), ('remake', 'of'), ('of',), ('of', 'malayalam'), ('malayalam',), ('malayalam', 'mohanlal'), ('mohanlal',), ('mohanlal', 'movie'), ('movie',), ('movie', 'devadoodhan'), ('devadoodhan',), ('devadoodhan', '</s>'), ('</s>',)]\n",
      "[('<s>',), ('<s>', 'tharamaana'), ('tharamaana',), ('tharamaana', 'sirappaana'), ('sirappaana',), ('sirappaana', 'sambavam'), ('sambavam',), ('sambavam', 'inimeal'), ('inimeal',), ('inimeal', 'ta'), ('ta',), ('ta', 'paaka'), ('paaka',), ('paaka', 'pora'), ('pora',), ('pora', '</s>'), ('</s>',)]\n",
      "[('<s>',), ('<s>', 'viswasam'), ('viswasam',), ('viswasam', 'trailer'), ('trailer',), ('trailer', 'paathutu'), ('paathutu',), ('paathutu', 'inka'), ('inka',), ('inka', 'vanthavanga'), ('vanthavanga',), ('vanthavanga', 'like'), ('like',), ('like', 'panuga'), ('panuga',), ('panuga', '</s>'), ('</s>',)]\n",
      "[('<s>',), ('<s>', 'maran'), ('maran',), ('maran', 'kattu'), ('kattu',), ('kattu', 'kattitamnue'), ('kattitamnue',), ('kattitamnue', 'verithanam'), ('verithanam',), ('verithanam', 'thalivaa'), ('thalivaa',), ('thalivaa', 'a'), ('a',), ('a', '</s>'), ('</s>',)]\n",
      "[('<s>',), ('<s>', 'ella'), ('ella',), ('ella', 'trailer'), ('trailer',), ('trailer', 'la'), ('la',), ('la', 'last'), ('last',), ('last', 'la'), ('la',), ('la', 'oru'), ('oru',), ('oru', 'mass'), ('mass',), ('mass', 'dialouge'), ('dialouge',), ('dialouge', 'vaichikuringaaa'), ('vaichikuringaaa',), ('vaichikuringaaa', 'paaaa'), ('paaaa',), ('paaaa', '</s>'), ('</s>',)]\n",
      "[('<s>',), ('<s>', 'eppa'), ('eppa',), ('eppa', 'saamy'), ('saamy',), ('saamy', 'thala'), ('thala',), ('thala', 'padathula'), ('padathula',), ('padathula', 'vera'), ('vera',), ('vera', 'director'), ('director',), ('director', 'perapakurathu'), ('perapakurathu',), ('perapakurathu', 'evalo'), ('evalo',), ('evalo', 'periya'), ('periya',), ('periya', 'santhosama'), ('santhosama',), ('santhosama', 'iruku'), ('iruku',), ('iruku', '</s>'), ('</s>',)]\n",
      "[('<s>',), ('<s>', 'en'), ('en',), ('en', 'thalaivan'), ('thalaivan',), ('thalaivan', 'vijaysethubathi'), ('vijaysethubathi',), ('vijaysethubathi', 'kaga'), ('kaga',), ('kaga', 'matume'), ('matume',), ('matume', 'na'), ('na',), ('na', 'padam'), ('padam',), ('padam', 'papan'), ('papan',), ('papan', 'matha'), ('matha',), ('matha', 'entha'), ('entha',), ('entha', 'p'), ('p',), ('p', 'illa'), ('illa',), ('illa', '</s>'), ('</s>',)]\n",
      "[('<s>',), ('<s>', 'kanithan'), ('kanithan',), ('kanithan', 'mugamoodi'), ('mugamoodi',), ('mugamoodi', 'neenga'), ('neenga',), ('neenga', 'nambalainalum'), ('nambalainalum',), ('nambalainalum', 'ithan'), ('ithan',), ('ithan', 'nesam'), ('nesam',), ('nesam', '</s>'), ('</s>',)]\n",
      "[('<s>',), ('<s>', 'enakku'), ('enakku',), ('enakku', 'iru'), ('iru',), ('iru', 'mugan'), ('mugan',), ('mugan', 'trailer'), ('trailer',), ('trailer', 'gnabagam'), ('gnabagam',), ('gnabagam', 'than'), ('than',), ('than', 'varuthu'), ('varuthu',), ('varuthu', '</s>'), ('</s>',)]\n"
     ]
    }
   ],
   "source": [
    "for _ in range(10):\n",
    "    print(list(next(train)))"
   ]
  },
  {
   "cell_type": "code",
   "execution_count": 82,
   "metadata": {},
   "outputs": [],
   "source": [
    "lm = MLE(2)"
   ]
  },
  {
   "cell_type": "code",
   "execution_count": 83,
   "metadata": {},
   "outputs": [
    {
     "data": {
      "text/plain": [
       "0"
      ]
     },
     "execution_count": 83,
     "metadata": {},
     "output_type": "execute_result"
    }
   ],
   "source": [
    "len(lm.vocab)"
   ]
  },
  {
   "cell_type": "code",
   "execution_count": 84,
   "metadata": {},
   "outputs": [],
   "source": [
    "lm.fit(train, vocab)"
   ]
  },
  {
   "cell_type": "code",
   "execution_count": 85,
   "metadata": {},
   "outputs": [
    {
     "name": "stdout",
     "output_type": "stream",
     "text": [
      "<Vocabulary with cutoff=1 unk_label='<UNK>' and 18404 items>\n"
     ]
    }
   ],
   "source": [
    "print(lm.vocab)"
   ]
  },
  {
   "cell_type": "code",
   "execution_count": 86,
   "metadata": {},
   "outputs": [
    {
     "data": {
      "text/plain": [
       "18404"
      ]
     },
     "execution_count": 86,
     "metadata": {},
     "output_type": "execute_result"
    }
   ],
   "source": [
    "len(lm.vocab)"
   ]
  },
  {
   "cell_type": "code",
   "execution_count": 87,
   "metadata": {},
   "outputs": [
    {
     "data": {
      "text/plain": [
       "('trailer', 'late', 'ah', 'parthavanga', 'like', 'podunga')"
      ]
     },
     "execution_count": 87,
     "metadata": {},
     "output_type": "execute_result"
    }
   ],
   "source": [
    "lm.vocab.lookup(corpus[0])"
   ]
  },
  {
   "cell_type": "code",
   "execution_count": 88,
   "metadata": {},
   "outputs": [
    {
     "data": {
      "text/plain": [
       "('aliens', 'from', '<UNK>')"
      ]
     },
     "execution_count": 88,
     "metadata": {},
     "output_type": "execute_result"
    }
   ],
   "source": [
    "lm.vocab.lookup([\"aliens\", \"from\", \"Mars\"])"
   ]
  },
  {
   "cell_type": "code",
   "execution_count": 89,
   "metadata": {},
   "outputs": [
    {
     "name": "stdout",
     "output_type": "stream",
     "text": [
      "<NgramCounter with 2 ngram orders and 215279 ngrams>\n"
     ]
    }
   ],
   "source": [
    "print(lm.counts)"
   ]
  },
  {
   "cell_type": "code",
   "execution_count": 91,
   "metadata": {},
   "outputs": [
    {
     "data": {
      "text/plain": [
       "1890"
      ]
     },
     "execution_count": 91,
     "metadata": {},
     "output_type": "execute_result"
    }
   ],
   "source": [
    "lm.counts['thala']"
   ]
  },
  {
   "cell_type": "code",
   "execution_count": 99,
   "metadata": {},
   "outputs": [
    {
     "data": {
      "text/plain": [
       "['shooting', 'etuthaanga', '</s>', 'padathula', 'sivakarthikeyan']"
      ]
     },
     "execution_count": 99,
     "metadata": {},
     "output_type": "execute_result"
    }
   ],
   "source": [
    "lm.generate(5)"
   ]
  },
  {
   "cell_type": "code",
   "execution_count": 104,
   "metadata": {},
   "outputs": [],
   "source": [
    "test = preproc(\"./tamil_dev.tsv\")"
   ]
  },
  {
   "cell_type": "code",
   "execution_count": 106,
   "metadata": {},
   "outputs": [],
   "source": [
    "test_bigram , _ = padded_everygram_pipeline(2, test)"
   ]
  },
  {
   "cell_type": "code",
   "execution_count": 110,
   "metadata": {},
   "outputs": [],
   "source": [
    "test_bigram = list(test_bigram)"
   ]
  },
  {
   "cell_type": "code",
   "execution_count": 112,
   "metadata": {},
   "outputs": [],
   "source": [
    "test_bigram = [list(x) for x in test_bigram]"
   ]
  },
  {
   "cell_type": "code",
   "execution_count": 139,
   "metadata": {},
   "outputs": [
    {
     "data": {
      "text/plain": [
       "1791.25794684349"
      ]
     },
     "execution_count": 139,
     "metadata": {},
     "output_type": "execute_result"
    }
   ],
   "source": [
    "lm.perplexity(\"trailer\")"
   ]
  },
  {
   "cell_type": "code",
   "execution_count": 143,
   "metadata": {},
   "outputs": [
    {
     "data": {
      "text/plain": [
       "-4.366178869316403"
      ]
     },
     "execution_count": 143,
     "metadata": {},
     "output_type": "execute_result"
    }
   ],
   "source": [
    "lm.logscore(\"thala\", [\"mass\"])"
   ]
  },
  {
   "cell_type": "code",
   "execution_count": 142,
   "metadata": {},
   "outputs": [
    {
     "data": {
      "text/plain": [
       "-5.08746284125034"
      ]
     },
     "execution_count": 142,
     "metadata": {},
     "output_type": "execute_result"
    }
   ],
   "source": [
    "lm.logscore(\"trailer\", [\"mass\"])"
   ]
  }
 ],
 "metadata": {
  "kernelspec": {
   "display_name": "19CSE453",
   "language": "python",
   "name": "python3"
  },
  "language_info": {
   "codemirror_mode": {
    "name": "ipython",
    "version": 3
   },
   "file_extension": ".py",
   "mimetype": "text/x-python",
   "name": "python",
   "nbconvert_exporter": "python",
   "pygments_lexer": "ipython3",
   "version": "3.11.4"
  },
  "orig_nbformat": 4
 },
 "nbformat": 4,
 "nbformat_minor": 2
}
