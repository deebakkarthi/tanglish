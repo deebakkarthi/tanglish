{
 "cells": [
  {
   "cell_type": "code",
   "execution_count": 1,
   "metadata": {},
   "outputs": [],
   "source": [
    "import codecs"
   ]
  },
  {
   "cell_type": "code",
   "execution_count": 2,
   "metadata": {},
   "outputs": [],
   "source": [
    "filepath = \"tamil_tagged_input.txt\"\n",
    "f = codecs.open(filepath, 'r', encoding='utf-8')\n",
    "file_contents = f.readlines()\n",
    "data=[]\n",
    "words=[]\n",
    "tags=[]\n",
    "for x in range(len(file_contents)):\n",
    "\tline = file_contents.pop(0).strip().split('\\\\')\n",
    "\tword,tag=line\n",
    "\tif word!='.':\n",
    "\t\twords.append(word)\n",
    "\t\ttags.append(tag)\n",
    "\telse:\n",
    "\t\t#words.append(word)\n",
    "\t\t#tags.append(tag)\n",
    "\t\ttemp1=['<s>'] +words.copy()+ ['</s>']\n",
    "\t\ttemp2=['START']+tags.copy() + ['END']\n",
    "\t\tdata.append(tuple([temp1,temp2]))\n",
    "\n",
    "\t\twords.clear()\n",
    "\t\ttags.clear()\n"
   ]
  },
  {
   "cell_type": "code",
   "execution_count": 3,
   "metadata": {},
   "outputs": [
    {
     "data": {
      "text/plain": [
       "7154"
      ]
     },
     "execution_count": 3,
     "metadata": {},
     "output_type": "execute_result"
    }
   ],
   "source": [
    "len(data)"
   ]
  },
  {
   "cell_type": "code",
   "execution_count": 4,
   "metadata": {},
   "outputs": [],
   "source": [
    "from sklearn.model_selection import train_test_split\n",
    "features = [item[0] for item in data]\n",
    "labels = [item[1] for item in data]"
   ]
  },
  {
   "cell_type": "code",
   "execution_count": 5,
   "metadata": {},
   "outputs": [],
   "source": [
    "features_train, features_test, labels_train, labels_test = train_test_split(features, labels, test_size=0.1, random_state=42)"
   ]
  },
  {
   "cell_type": "code",
   "execution_count": 6,
   "metadata": {},
   "outputs": [],
   "source": [
    "with open('tamil_training.txt','w',encoding=\"utf-8\") as f:\n",
    "    for i in range(len(features_train)):\n",
    "        words=features_train[i]\n",
    "        labels=labels_train[i]\n",
    "        for j in range(len(words)):\n",
    "            f.write(words[j]+'\\\\'+labels[j]+'\\n')"
   ]
  },
  {
   "cell_type": "code",
   "execution_count": 7,
   "metadata": {},
   "outputs": [],
   "source": [
    "with open('tamil_testing_sentences.txt','w',encoding=\"utf-8\") as f:\n",
    "    for i in range(len(features_test)):\n",
    "        words=features_test[i]\n",
    "        #labels=labels_test[i]\n",
    "        for j in range(len(words)):\n",
    "            word=words[j]\n",
    "            if word==\"<s>\" or word==\"</s>\":\n",
    "                continue\n",
    "            f.write(words[j]+' ')\n",
    "        f.write('\\n')"
   ]
  },
  {
   "cell_type": "code",
   "execution_count": 8,
   "metadata": {},
   "outputs": [],
   "source": [
    "with open('tamil_testing_labels.txt','w',encoding=\"utf-8\") as f:\n",
    "    for i in range(len(labels_test)):\n",
    "        labels=labels_test[i]\n",
    "        for j in range(len(labels)):\n",
    "            label=labels[j]\n",
    "            if label==\"START\" or label==\"END\":\n",
    "                continue\n",
    "            f.write(label+' ')\n",
    "        f.write('\\n')"
   ]
  },
  {
   "cell_type": "code",
   "execution_count": null,
   "metadata": {},
   "outputs": [],
   "source": []
  }
 ],
 "metadata": {
  "kernelspec": {
   "display_name": "Python 3",
   "language": "python",
   "name": "python3"
  },
  "language_info": {
   "codemirror_mode": {
    "name": "ipython",
    "version": 3
   },
   "file_extension": ".py",
   "mimetype": "text/x-python",
   "name": "python",
   "nbconvert_exporter": "python",
   "pygments_lexer": "ipython3",
   "version": "3.11.5"
  }
 },
 "nbformat": 4,
 "nbformat_minor": 2
}
